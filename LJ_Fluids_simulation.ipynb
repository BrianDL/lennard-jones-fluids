{
  "nbformat": 4,
  "nbformat_minor": 0,
  "metadata": {
    "colab": {
      "provenance": [],
      "authorship_tag": "ABX9TyNlHscZh3aPS+vg8TBrJU7p",
      "include_colab_link": true
    },
    "kernelspec": {
      "name": "python3",
      "display_name": "Python 3"
    },
    "language_info": {
      "name": "python"
    }
  },
  "cells": [
    {
      "cell_type": "markdown",
      "metadata": {
        "id": "view-in-github",
        "colab_type": "text"
      },
      "source": [
        "<a href=\"https://colab.research.google.com/github/BrianDL/lennard-jones-fluids/blob/main/LJ_Fluids_simulation.ipynb\" target=\"_parent\"><img src=\"https://colab.research.google.com/assets/colab-badge.svg\" alt=\"Open In Colab\"/></a>"
      ]
    },
    {
      "cell_type": "code",
      "source": [
        "import time\n",
        "\n",
        "from montecarlosim.simulation import Simulation\n",
        "from montecarlosim.container import Region, get_region\n",
        "from montecarlosim.plotter import Plotter\n",
        "\n",
        "L = 0.001\n",
        "N = 800\n",
        "\n",
        "print(f\"Simulation started at {time.asctime()}...\")\n",
        "t0 = time.time()\n",
        "\n",
        "### Get a container and add it to the simulation\n",
        "container = get_region('block', (L, L, L))\n",
        "sim = Simulation(container, N\n",
        "    , step_size=0.15\n",
        "    , epsilon=1\n",
        "    , beta=1\n",
        "\n",
        "    ### Warning, the following must be defined in the simulation\n",
        "    ### Or it will lead to an infinite loop.\n",
        "    , stop_condition='max_steps_5K'\n",
        "    )\n",
        "\n",
        "sim.start() ### Simulation starts running\n",
        "\n",
        "dt = time.time() - t0\n",
        "print(f\"Simulation took {dt} ms\")\n",
        "\n",
        "\n",
        "### Plot the results\n",
        "plotter = Plotter(sim)\n",
        "\n",
        "plotter.plot_energy()\n",
        "plotter.plot_xz_projection(0)\n",
        "plotter.plot_xz_projection()\n"
      ],
      "metadata": {
        "colab": {
          "base_uri": "https://localhost:8080/"
        },
        "id": "KubV1z5cqWX9",
        "outputId": "f8665e95-edaa-42ba-d654-3f36623b3fb8"
      },
      "execution_count": 10,
      "outputs": [
        {
          "output_type": "stream",
          "name": "stdout",
          "text": [
            "Simulation started at Wed May 29 18:54:24 2024...\n",
            "Simulation took 28.116015195846558 ms\n"
          ]
        }
      ]
    },
    {
      "cell_type": "code",
      "source": [],
      "metadata": {
        "id": "HMjI4XpmsQz8"
      },
      "execution_count": null,
      "outputs": []
    }
  ]
}