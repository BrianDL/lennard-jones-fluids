{
  "nbformat": 4,
  "nbformat_minor": 0,
  "metadata": {
    "colab": {
      "provenance": [],
      "mount_file_id": "https://github.com/BrianDL/lennard-jones-fluids/blob/main/LJ_Fluids_simulation.ipynb",
      "authorship_tag": "ABX9TyO9SIhzmkXmflK/VhX9pNRN",
      "include_colab_link": true
    },
    "kernelspec": {
      "name": "python3",
      "display_name": "Python 3"
    },
    "language_info": {
      "name": "python"
    }
  },
  "cells": [
    {
      "cell_type": "markdown",
      "metadata": {
        "id": "view-in-github",
        "colab_type": "text"
      },
      "source": [
        "<a href=\"https://colab.research.google.com/github/BrianDL/lennard-jones-fluids/blob/main/LJ_Fluids_simulation.ipynb\" target=\"_parent\"><img src=\"https://colab.research.google.com/assets/colab-badge.svg\" alt=\"Open In Colab\"/></a>"
      ]
    },
    {
      "cell_type": "code",
      "source": [
        "import time\n",
        "\n",
        "from montecarlosim.simulation import Simulation\n",
        "from montecarlosim.container import Region, get_region\n",
        "from montecarlosim.plotter import Plotter\n",
        "\n"
      ],
      "metadata": {
        "id": "f_8vzAcSv1cR"
      },
      "execution_count": null,
      "outputs": []
    },
    {
      "cell_type": "code",
      "source": [
        "\n",
        "L = 500\n",
        "N = 600\n",
        "\n",
        "print(f\"Simulation started at {time.asctime()}...\")\n",
        "t0 = time.time()\n",
        "\n",
        "container = get_region('block', (L,L,L))\n",
        "sim = Simulation(container, N\n",
        "    , step_size=0.2\n",
        "    , stop_condition='max_steps_6K'\n",
        "    , init_pressure=0.2\n",
        "    )\n",
        "sim.start()\n",
        "\n",
        "dt = time.time() - t0\n",
        "print(f\"Simulation took {dt} s\")\n",
        "\n",
        "plotter = Plotter(sim)\n",
        "plotter.plot_energy()\n",
        "\n",
        "plotter.plot_xz_projection(0)\n",
        "plotter.plot_xz_projection()\n",
        "\n",
        "plotter.plot_3d_state()\n",
        "\n",
        "plotter.create_gif(filename='system_evolution.gif'\n",
        "    , plot_type='3d', step_interval=100)"
      ],
      "metadata": {
        "colab": {
          "base_uri": "https://localhost:8080/"
        },
        "id": "KubV1z5cqWX9",
        "outputId": "b02691e7-f148-4638-a089-092fb12ec31a"
      },
      "execution_count": null,
      "outputs": [
        {
          "output_type": "stream",
          "name": "stdout",
          "text": [
            "Simulation started at Thu May 30 04:29:05 2024...\n",
            "Simulation took 60.74213624000549 s\n"
          ]
        }
      ]
    }
  ]
}